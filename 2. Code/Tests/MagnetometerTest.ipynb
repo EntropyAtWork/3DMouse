{
 "cells": [
  {
   "cell_type": "code",
   "execution_count": 1,
   "metadata": {},
   "outputs": [
    {
     "name": "stdout",
     "output_type": "stream",
     "text": [
      "Requirement already satisfied: numpy in /Users/achilles/Library/Python/3.10/lib/python/site-packages (1.26.0)\n",
      "\n",
      "\u001b[1m[\u001b[0m\u001b[34;49mnotice\u001b[0m\u001b[1;39;49m]\u001b[0m\u001b[39;49m A new release of pip is available: \u001b[0m\u001b[31;49m23.0.1\u001b[0m\u001b[39;49m -> \u001b[0m\u001b[32;49m23.2.1\u001b[0m\n",
      "\u001b[1m[\u001b[0m\u001b[34;49mnotice\u001b[0m\u001b[1;39;49m]\u001b[0m\u001b[39;49m To update, run: \u001b[0m\u001b[32;49mpython3.10 -m pip install --upgrade pip\u001b[0m\n"
     ]
    },
    {
     "ename": "ModuleNotFoundError",
     "evalue": "No module named 'mpl_toolkits'",
     "output_type": "error",
     "traceback": [
      "\u001b[0;31m---------------------------------------------------------------------------\u001b[0m",
      "\u001b[0;31mModuleNotFoundError\u001b[0m                       Traceback (most recent call last)",
      "\u001b[1;32m/Users/achilles/Desktop/Stuff/3DMouse/2. Code/Tests/MagnetometerTest.ipynb Cell 1\u001b[0m line \u001b[0;36m7\n\u001b[1;32m      <a href='vscode-notebook-cell:/Users/achilles/Desktop/Stuff/3DMouse/2.%20Code/Tests/MagnetometerTest.ipynb#W0sZmlsZQ%3D%3D?line=4'>5</a>\u001b[0m \u001b[39mimport\u001b[39;00m \u001b[39mnumpy\u001b[39;00m \u001b[39mas\u001b[39;00m \u001b[39mnp\u001b[39;00m \n\u001b[1;32m      <a href='vscode-notebook-cell:/Users/achilles/Desktop/Stuff/3DMouse/2.%20Code/Tests/MagnetometerTest.ipynb#W0sZmlsZQ%3D%3D?line=5'>6</a>\u001b[0m \u001b[39mimport\u001b[39;00m \u001b[39mshelve\u001b[39;00m\n\u001b[0;32m----> <a href='vscode-notebook-cell:/Users/achilles/Desktop/Stuff/3DMouse/2.%20Code/Tests/MagnetometerTest.ipynb#W0sZmlsZQ%3D%3D?line=6'>7</a>\u001b[0m \u001b[39mfrom\u001b[39;00m \u001b[39mmpl_toolkits\u001b[39;00m\u001b[39m.\u001b[39;00m\u001b[39mmplot3d\u001b[39;00m \u001b[39mimport\u001b[39;00m Axes3D\n\u001b[1;32m      <a href='vscode-notebook-cell:/Users/achilles/Desktop/Stuff/3DMouse/2.%20Code/Tests/MagnetometerTest.ipynb#W0sZmlsZQ%3D%3D?line=7'>8</a>\u001b[0m \u001b[39mfrom\u001b[39;00m \u001b[39mmatplotlib\u001b[39;00m \u001b[39mimport\u001b[39;00m pyplot \u001b[39mas\u001b[39;00m plt\n\u001b[1;32m      <a href='vscode-notebook-cell:/Users/achilles/Desktop/Stuff/3DMouse/2.%20Code/Tests/MagnetometerTest.ipynb#W0sZmlsZQ%3D%3D?line=8'>9</a>\u001b[0m \u001b[39mfrom\u001b[39;00m \u001b[39mmath\u001b[39;00m \u001b[39mimport\u001b[39;00m sin, cos, atan2, pi, sqrt, asin\n",
      "\u001b[0;31mModuleNotFoundError\u001b[0m: No module named 'mpl_toolkits'"
     ]
    }
   ],
   "source": [
    "import sys\n",
    "!{sys.executable} -m pip install --user numpy\n",
    "#from __future__ import print_function\n",
    "#from __future__ import division\n",
    "import numpy as np \n",
    "import shelve\n",
    "from mpl_toolkits.mplot3d import Axes3D\n",
    "from matplotlib import pyplot as plt\n",
    "from math import sin, cos, atan2, pi, sqrt, asin\n",
    "from math import radians as deg2rad\n",
    "from math import degrees as rad2deg\n"
   ]
  },
  {
   "cell_type": "code",
   "execution_count": 2,
   "metadata": {},
   "outputs": [],
   "source": [
    "def read(filename, keys):\n",
    "    db = shelve.open(filename)\n",
    "    ans = {}\n",
    "    for key in keys:\n",
    "        ans[key] = db[key]\n",
    "    db.close()\n",
    "    return ans\n"
   ]
  },
  {
   "cell_type": "markdown",
   "metadata": {},
   "source": [
    "Læser daa filen og retunere et hash "
   ]
  },
  {
   "cell_type": "code",
   "execution_count": 3,
   "metadata": {},
   "outputs": [],
   "source": [
    "def normalize(x, y, z):\n",
    "    norm = sqrt(x * x + y * y + z * z)\n",
    "    if norm > 0.0:\n",
    "        inorm = 1/norm \n",
    "        x *= inorm\n",
    "        y *= inorm\n",
    "        z *= inorm\n",
    "    else:\n",
    "        raise Exception('division by zero: {} {} {}'.format(x, y, z))\n",
    "    return (x, y, z)"
   ]
  },
  {
   "cell_type": "markdown",
   "metadata": {},
   "source": [
    "Retunere en enhedsvektor "
   ]
  },
  {
   "cell_type": "code",
   "execution_count": 4,
   "metadata": {},
   "outputs": [],
   "source": [
    "def plotArray(g, title=None):\n",
    "    x = []\n",
    "    y = []\n",
    "    z = []\n",
    "    for d in g:\n",
    "        x.append(d[0])\n",
    "        y.append(d[1])\n",
    "        z.append(d[2])\n",
    "\n",
    "    plt.subplot(3, 2, 1)\n",
    "    plt.plot(x)\n",
    "    plt.ylabel('x')\n",
    "    plt.grid(True)\n",
    "    if title:\n",
    "        plt.title(title)\n",
    "\n",
    "    plt.subplot(3, 2, 1)\n",
    "    plt.plot(y)\n",
    "    plt.ylabel('y')\n",
    "    plt.grid(True)\n",
    "    \n",
    "    plt.subplot(3, 2, 1)\n",
    "    plt.plot(z)\n",
    "    plt.ylabel('z')\n",
    "    plt.grid(True)\n",
    "    \n"
   ]
  },
  {
   "cell_type": "markdown",
   "metadata": {},
   "source": [
    "Plotter x, y, z komponenterne as sensoren"
   ]
  },
  {
   "cell_type": "code",
   "execution_count": null,
   "metadata": {},
   "outputs": [],
   "source": []
  }
 ],
 "metadata": {
  "kernelspec": {
   "display_name": "Python 3",
   "language": "python",
   "name": "python3"
  },
  "language_info": {
   "codemirror_mode": {
    "name": "ipython",
    "version": 3
   },
   "file_extension": ".py",
   "mimetype": "text/x-python",
   "name": "python",
   "nbconvert_exporter": "python",
   "pygments_lexer": "ipython3",
   "version": "3.10.11"
  },
  "orig_nbformat": 4
 },
 "nbformat": 4,
 "nbformat_minor": 2
}
