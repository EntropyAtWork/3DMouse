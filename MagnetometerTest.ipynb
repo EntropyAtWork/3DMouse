{
 "cells": [
  {
   "cell_type": "code",
   "execution_count": null,
   "metadata": {},
   "outputs": [],
   "source": [
    "import time\n",
    "import matplotlib.pyplot as plt\n",
    "from matplotlib.animation import FuncAnimation\n",
    "import datetime\n",
    "import matplotlib.dates as mdates\n",
    "from collections import deque\n",
    "import numpy as np\n",
    "\n",
    "import serial\n"
   ]
  },
  {
   "cell_type": "code",
   "execution_count": null,
   "metadata": {},
   "outputs": [],
   "source": [
    "PORT = \"COM43\"\n",
    "\n",
    "#Antallet af sensor samples man  vil have\n",
    "HISTORY_SIZE = 2500\n",
    "#\n",
    "INTERVAL = 0.01"
   ]
  },
  {
   "cell_type": "code",
   "execution_count": null,
   "metadata": {},
   "outputs": [],
   "source": [
    "for  _ in range(20):\n",
    "    print(get_imu_data())\n",
    "    "
   ]
  },
  {
   "cell_type": "code",
   "execution_count": null,
   "metadata": {},
   "outputs": [],
   "source": [
    "#Magnetometer data capture \n",
    "\n",
    "mag_x = deque(maxlen=HISTORY_SIZE)\n",
    "mag_y = deque(maxlen=HISTORY_SIZE)\n",
    "mag_z = deque(maxlen=HISTORY_SIZE)\n",
    "\n",
    "fig, ax = plt.subplot(1, 1)\n",
    "ax.set_aspect(1)\n",
    "\n",
    "if serialport:\n",
    "    try:\n",
    "        serialport.close()\n",
    "    except NameError:\n",
    "        pass\n"
   ]
  }
 ],
 "metadata": {
  "language_info": {
   "name": "python"
  },
  "orig_nbformat": 4
 },
 "nbformat": 4,
 "nbformat_minor": 2
}
